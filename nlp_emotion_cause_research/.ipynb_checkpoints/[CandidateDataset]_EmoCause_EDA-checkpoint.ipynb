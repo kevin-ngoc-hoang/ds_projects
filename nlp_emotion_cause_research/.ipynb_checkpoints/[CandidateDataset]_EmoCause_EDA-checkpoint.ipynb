{
 "cells": [
  {
   "cell_type": "code",
   "execution_count": 3,
   "id": "9d76d1f4",
   "metadata": {},
   "outputs": [],
   "source": [
    "import pandas as pd\n",
    "import numpy as np"
   ]
  },
  {
   "cell_type": "code",
   "execution_count": 8,
   "id": "51d5b370",
   "metadata": {},
   "outputs": [],
   "source": [
    "DATA_PATH = './data/emocause'"
   ]
  },
  {
   "cell_type": "code",
   "execution_count": 19,
   "id": "53d49817",
   "metadata": {},
   "outputs": [],
   "source": [
    "# Dataset doesn't provide an explicit \"train\" set, we can attempt to partition the existing data\n",
    "df_valid = pd.read_json(f'{DATA_PATH}/valid.json')\n",
    "df_test = pd.read_json(f'{DATA_PATH}/test.json')"
   ]
  },
  {
   "cell_type": "code",
   "execution_count": 21,
   "id": "e842b541",
   "metadata": {},
   "outputs": [
    {
     "data": {
      "text/plain": [
       "3775"
      ]
     },
     "execution_count": 21,
     "metadata": {},
     "output_type": "execute_result"
    }
   ],
   "source": [
    "len(df_valid)"
   ]
  },
  {
   "cell_type": "code",
   "execution_count": 22,
   "id": "c85e2b44",
   "metadata": {},
   "outputs": [
    {
     "data": {
      "text/plain": [
       "838"
      ]
     },
     "execution_count": 22,
     "metadata": {},
     "output_type": "execute_result"
    }
   ],
   "source": [
    "len(df_test)"
   ]
  },
  {
   "cell_type": "code",
   "execution_count": 13,
   "id": "2450ccc1",
   "metadata": {
    "scrolled": true
   },
   "outputs": [
    {
     "data": {
      "text/html": [
       "<div>\n",
       "<style scoped>\n",
       "    .dataframe tbody tr th:only-of-type {\n",
       "        vertical-align: middle;\n",
       "    }\n",
       "\n",
       "    .dataframe tbody tr th {\n",
       "        vertical-align: top;\n",
       "    }\n",
       "\n",
       "    .dataframe thead th {\n",
       "        text-align: right;\n",
       "    }\n",
       "</style>\n",
       "<table border=\"1\" class=\"dataframe\">\n",
       "  <thead>\n",
       "    <tr style=\"text-align: right;\">\n",
       "      <th></th>\n",
       "      <th>original_situation</th>\n",
       "      <th>tokenized_situation</th>\n",
       "      <th>emotion</th>\n",
       "      <th>conv_id</th>\n",
       "      <th>annotation</th>\n",
       "      <th>labels</th>\n",
       "    </tr>\n",
       "  </thead>\n",
       "  <tbody>\n",
       "    <tr>\n",
       "      <th>0</th>\n",
       "      <td>I felt betrayed when my girlfriend kissed anot...</td>\n",
       "      <td>[I, felt, betrayed, when, my, girlfriend, kiss...</td>\n",
       "      <td>__disappointed__</td>\n",
       "      <td>hit:4449_conv:8898</td>\n",
       "      <td>[[girlfriend, 5], [kissed, 6], [another, 7], [...</td>\n",
       "      <td>[girlfriend, kissed, another, guy]</td>\n",
       "    </tr>\n",
       "    <tr>\n",
       "      <th>1</th>\n",
       "      <td>I found letters that my wife wrote me when we ...</td>\n",
       "      <td>[I, found, letters, that, my, wife, wrote, me,...</td>\n",
       "      <td>__sentimental__</td>\n",
       "      <td>hit:4725_conv:9451</td>\n",
       "      <td>[[letters, 2], [wife, 5], [wrote, 6], [first, ...</td>\n",
       "      <td>[letters, wife, wrote, first, dating]</td>\n",
       "    </tr>\n",
       "    <tr>\n",
       "      <th>2</th>\n",
       "      <td>I have a job interview next week that I have b...</td>\n",
       "      <td>[I, have, a, job, interview, next, week, that,...</td>\n",
       "      <td>__prepared__</td>\n",
       "      <td>hit:4678_conv:9356</td>\n",
       "      <td>[[job, 3], [interview, 4], [getting, 11], [rea...</td>\n",
       "      <td>[job, interview, getting, ready]</td>\n",
       "    </tr>\n",
       "    <tr>\n",
       "      <th>3</th>\n",
       "      <td>I'm getting cold feet about moving to another ...</td>\n",
       "      <td>[I, 'm, getting, cold, feet, about, moving, to...</td>\n",
       "      <td>__apprehensive__</td>\n",
       "      <td>hit:4740_conv:9481</td>\n",
       "      <td>[[moving, 6], [another, 8], [city, 9]]</td>\n",
       "      <td>[moving, another, city]</td>\n",
       "    </tr>\n",
       "    <tr>\n",
       "      <th>4</th>\n",
       "      <td>I feel so bad that I have to work so much and ...</td>\n",
       "      <td>[I, feel, so, bad, that, I, have, to, work, so...</td>\n",
       "      <td>__guilty__</td>\n",
       "      <td>hit:4652_conv:9304</td>\n",
       "      <td>[[work, 8], [ca, 12], [n't, 13], [play, 14], [...</td>\n",
       "      <td>[work, ca, n't, play, grandchild]</td>\n",
       "    </tr>\n",
       "    <tr>\n",
       "      <th>...</th>\n",
       "      <td>...</td>\n",
       "      <td>...</td>\n",
       "      <td>...</td>\n",
       "      <td>...</td>\n",
       "      <td>...</td>\n",
       "      <td>...</td>\n",
       "    </tr>\n",
       "    <tr>\n",
       "      <th>3770</th>\n",
       "      <td>when my Grandparents died, I was extremely ups...</td>\n",
       "      <td>[when, my, Grandparents, died, ,, I, was, extr...</td>\n",
       "      <td>__devastated__</td>\n",
       "      <td>hit:10796_conv:21593</td>\n",
       "      <td>[[died, 3]]</td>\n",
       "      <td>[died]</td>\n",
       "    </tr>\n",
       "    <tr>\n",
       "      <th>3771</th>\n",
       "      <td>One time in high school I sat in chocolate sau...</td>\n",
       "      <td>[One, time, in, high, school, I, sat, in, choc...</td>\n",
       "      <td>__embarrassed__</td>\n",
       "      <td>hit:10909_conv:21818</td>\n",
       "      <td>[[sauce, 9]]</td>\n",
       "      <td>[sauce]</td>\n",
       "    </tr>\n",
       "    <tr>\n",
       "      <th>3772</th>\n",
       "      <td>our company is firing people</td>\n",
       "      <td>[our, company, is, firing, people]</td>\n",
       "      <td>__sad__</td>\n",
       "      <td>hit:10792_conv:21584</td>\n",
       "      <td>[[firing, 3], [people, 4]]</td>\n",
       "      <td>[firing, people]</td>\n",
       "    </tr>\n",
       "    <tr>\n",
       "      <th>3773</th>\n",
       "      <td>I'm trying to transition my dog into not sleep...</td>\n",
       "      <td>[I, 'm, trying, to, transition, my, dog, into,...</td>\n",
       "      <td>__sad__</td>\n",
       "      <td>hit:11321_conv:22643</td>\n",
       "      <td>[[scratching, 25], [door, 28]]</td>\n",
       "      <td>[scratching, door]</td>\n",
       "    </tr>\n",
       "    <tr>\n",
       "      <th>3774</th>\n",
       "      <td>i have to fly out of town next week. I do not ...</td>\n",
       "      <td>[i, have, to, fly, out, of, town, next, week, ...</td>\n",
       "      <td>__terrified__</td>\n",
       "      <td>hit:10635_conv:21271</td>\n",
       "      <td>[[fly, 3]]</td>\n",
       "      <td>[fly]</td>\n",
       "    </tr>\n",
       "  </tbody>\n",
       "</table>\n",
       "<p>3775 rows × 6 columns</p>\n",
       "</div>"
      ],
      "text/plain": [
       "                                     original_situation  \\\n",
       "0     I felt betrayed when my girlfriend kissed anot...   \n",
       "1     I found letters that my wife wrote me when we ...   \n",
       "2     I have a job interview next week that I have b...   \n",
       "3     I'm getting cold feet about moving to another ...   \n",
       "4     I feel so bad that I have to work so much and ...   \n",
       "...                                                 ...   \n",
       "3770  when my Grandparents died, I was extremely ups...   \n",
       "3771  One time in high school I sat in chocolate sau...   \n",
       "3772                       our company is firing people   \n",
       "3773  I'm trying to transition my dog into not sleep...   \n",
       "3774  i have to fly out of town next week. I do not ...   \n",
       "\n",
       "                                    tokenized_situation           emotion  \\\n",
       "0     [I, felt, betrayed, when, my, girlfriend, kiss...  __disappointed__   \n",
       "1     [I, found, letters, that, my, wife, wrote, me,...   __sentimental__   \n",
       "2     [I, have, a, job, interview, next, week, that,...      __prepared__   \n",
       "3     [I, 'm, getting, cold, feet, about, moving, to...  __apprehensive__   \n",
       "4     [I, feel, so, bad, that, I, have, to, work, so...        __guilty__   \n",
       "...                                                 ...               ...   \n",
       "3770  [when, my, Grandparents, died, ,, I, was, extr...    __devastated__   \n",
       "3771  [One, time, in, high, school, I, sat, in, choc...   __embarrassed__   \n",
       "3772                 [our, company, is, firing, people]           __sad__   \n",
       "3773  [I, 'm, trying, to, transition, my, dog, into,...           __sad__   \n",
       "3774  [i, have, to, fly, out, of, town, next, week, ...     __terrified__   \n",
       "\n",
       "                   conv_id                                         annotation  \\\n",
       "0       hit:4449_conv:8898  [[girlfriend, 5], [kissed, 6], [another, 7], [...   \n",
       "1       hit:4725_conv:9451  [[letters, 2], [wife, 5], [wrote, 6], [first, ...   \n",
       "2       hit:4678_conv:9356  [[job, 3], [interview, 4], [getting, 11], [rea...   \n",
       "3       hit:4740_conv:9481             [[moving, 6], [another, 8], [city, 9]]   \n",
       "4       hit:4652_conv:9304  [[work, 8], [ca, 12], [n't, 13], [play, 14], [...   \n",
       "...                    ...                                                ...   \n",
       "3770  hit:10796_conv:21593                                        [[died, 3]]   \n",
       "3771  hit:10909_conv:21818                                       [[sauce, 9]]   \n",
       "3772  hit:10792_conv:21584                         [[firing, 3], [people, 4]]   \n",
       "3773  hit:11321_conv:22643                     [[scratching, 25], [door, 28]]   \n",
       "3774  hit:10635_conv:21271                                         [[fly, 3]]   \n",
       "\n",
       "                                     labels  \n",
       "0        [girlfriend, kissed, another, guy]  \n",
       "1     [letters, wife, wrote, first, dating]  \n",
       "2          [job, interview, getting, ready]  \n",
       "3                   [moving, another, city]  \n",
       "4         [work, ca, n't, play, grandchild]  \n",
       "...                                     ...  \n",
       "3770                                 [died]  \n",
       "3771                                [sauce]  \n",
       "3772                       [firing, people]  \n",
       "3773                     [scratching, door]  \n",
       "3774                                  [fly]  \n",
       "\n",
       "[3775 rows x 6 columns]"
      ]
     },
     "execution_count": 13,
     "metadata": {},
     "output_type": "execute_result"
    }
   ],
   "source": [
    "df_valid"
   ]
  },
  {
   "cell_type": "code",
   "execution_count": 18,
   "id": "fef1b8e7",
   "metadata": {},
   "outputs": [
    {
     "data": {
      "text/plain": [
       "{'original_situation': 'I felt betrayed when my girlfriend kissed another guy at a party. She was drunk, true. But still.',\n",
       " 'tokenized_situation': ['I',\n",
       "  'felt',\n",
       "  'betrayed',\n",
       "  'when',\n",
       "  'my',\n",
       "  'girlfriend',\n",
       "  'kissed',\n",
       "  'another',\n",
       "  'guy',\n",
       "  'at',\n",
       "  'a',\n",
       "  'party',\n",
       "  '.',\n",
       "  'She',\n",
       "  'was',\n",
       "  'drunk',\n",
       "  ',',\n",
       "  'true',\n",
       "  '.',\n",
       "  'But',\n",
       "  'still',\n",
       "  '.'],\n",
       " 'emotion': '__disappointed__',\n",
       " 'conv_id': 'hit:4449_conv:8898',\n",
       " 'annotation': [['girlfriend', 5], ['kissed', 6], ['another', 7], ['guy', 8]],\n",
       " 'labels': ['girlfriend', 'kissed', 'another', 'guy']}"
      ]
     },
     "execution_count": 18,
     "metadata": {},
     "output_type": "execute_result"
    }
   ],
   "source": [
    "dict(df_valid.iloc[0])"
   ]
  },
  {
   "cell_type": "code",
   "execution_count": 23,
   "id": "34124132",
   "metadata": {},
   "outputs": [
    {
     "data": {
      "text/plain": [
       "{'original_situation': 'I really wanted to get the part in the school rendition of a play. But my friend got it.',\n",
       " 'tokenized_situation': ['I',\n",
       "  'really',\n",
       "  'wanted',\n",
       "  'to',\n",
       "  'get',\n",
       "  'the',\n",
       "  'part',\n",
       "  'in',\n",
       "  'the',\n",
       "  'school',\n",
       "  'rendition',\n",
       "  'of',\n",
       "  'a',\n",
       "  'play',\n",
       "  '.',\n",
       "  'But',\n",
       "  'my',\n",
       "  'friend',\n",
       "  'got',\n",
       "  'it',\n",
       "  '.'],\n",
       " 'emotion': '__jealous__',\n",
       " 'conv_id': 'hit:12042_conv:24084',\n",
       " 'annotation': [['rendition', 10], ['friend', 17], ['got', 18]],\n",
       " 'labels': ['rendition', 'friend', 'got']}"
      ]
     },
     "execution_count": 23,
     "metadata": {},
     "output_type": "execute_result"
    }
   ],
   "source": [
    "dict(df_test.iloc[0])"
   ]
  },
  {
   "cell_type": "code",
   "execution_count": null,
   "id": "ef3e4b0b",
   "metadata": {},
   "outputs": [],
   "source": []
  }
 ],
 "metadata": {
  "kernelspec": {
   "display_name": "Python 3 (ipykernel)",
   "language": "python",
   "name": "python3"
  },
  "language_info": {
   "codemirror_mode": {
    "name": "ipython",
    "version": 3
   },
   "file_extension": ".py",
   "mimetype": "text/x-python",
   "name": "python",
   "nbconvert_exporter": "python",
   "pygments_lexer": "ipython3",
   "version": "3.10.11"
  }
 },
 "nbformat": 4,
 "nbformat_minor": 5
}
