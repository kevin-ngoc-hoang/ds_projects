{
 "cells": [
  {
   "cell_type": "code",
   "execution_count": 1,
   "id": "52e585ca",
   "metadata": {},
   "outputs": [],
   "source": [
    "import pandas as pd\n",
    "import numpy as np"
   ]
  },
  {
   "cell_type": "code",
   "execution_count": 8,
   "id": "52917aa0",
   "metadata": {},
   "outputs": [],
   "source": [
    "import jsonlines\n",
    "import json"
   ]
  },
  {
   "cell_type": "code",
   "execution_count": 11,
   "id": "838d0aca",
   "metadata": {},
   "outputs": [],
   "source": [
    "DATA_PATH = './data/GoodNewsEveryone'"
   ]
  },
  {
   "cell_type": "code",
   "execution_count": 21,
   "id": "eaa22e8e",
   "metadata": {},
   "outputs": [],
   "source": [
    "# Data needs to be manually partitioned\n",
    "data = []\n",
    "with jsonlines.open(f'{DATA_PATH}/gne-release-v1.0.jsonl', 'r') as reader:\n",
    "    for item in reader:\n",
    "        data.append(item)"
   ]
  },
  {
   "cell_type": "code",
   "execution_count": 23,
   "id": "33087607",
   "metadata": {},
   "outputs": [
    {
     "data": {
      "text/plain": [
       "5000"
      ]
     },
     "execution_count": 23,
     "metadata": {},
     "output_type": "execute_result"
    }
   ],
   "source": [
    "len(data)"
   ]
  },
  {
   "cell_type": "code",
   "execution_count": 25,
   "id": "f02cad39",
   "metadata": {},
   "outputs": [
    {
     "data": {
      "text/plain": [
       "dict_keys(['id', 'headline', 'url', 'meta', 'annotations'])"
      ]
     },
     "execution_count": 25,
     "metadata": {},
     "output_type": "execute_result"
    }
   ],
   "source": [
    "data[0].keys()"
   ]
  },
  {
   "cell_type": "code",
   "execution_count": 24,
   "id": "0bd185e8",
   "metadata": {},
   "outputs": [
    {
     "data": {
      "text/plain": [
       "{'id': '7d3fe468',\n",
       " 'headline': 'Cops in One Village Have Been Convicted of 70 Crimes. Here’s What They Had to Say About It.',\n",
       " 'url': 'http://tracking.feedpress.it/link/9499/12677255',\n",
       " 'meta': {'phase1_rank': 7,\n",
       "  'source': 'ProPublica',\n",
       "  'country': 'US',\n",
       "  'bias': {'vertical': '46', 'horizontal': '-5'}},\n",
       " 'annotations': {'dominant_emotion': {'raw': ['annoyance',\n",
       "    'positive_surprise',\n",
       "    'fear',\n",
       "    'guilt',\n",
       "    'anger',\n",
       "    'negative_surprise',\n",
       "    'shame',\n",
       "    'anger'],\n",
       "   'gold': 'anger'},\n",
       "  'other_emotions': {'raw': [['no_other_additional_emotions_are_expressed',\n",
       "     'annoyance'],\n",
       "    ['no_other_additional_emotions_are_expressed'],\n",
       "    ['no_other_additional_emotions_are_expressed'],\n",
       "    ['no_other_additional_emotions_are_expressed'],\n",
       "    ['no_other_additional_emotions_are_expressed']],\n",
       "   'gold': 'annoyance'},\n",
       "  'reader_emotions': {'raw': [['no_i_did_not_feel_any_emotion', 'annoyance'],\n",
       "    ['no_i_did_not_feel_any_emotion'],\n",
       "    ['no_i_did_not_feel_any_emotion'],\n",
       "    ['no_i_did_not_feel_any_emotion'],\n",
       "    ['no_i_did_not_feel_any_emotion']],\n",
       "   'gold': 'annoyance'},\n",
       "  'intensity': {'raw': ['medium', 'medium', 'medium', 'medium', 'medium'],\n",
       "   'gold': 'medium'},\n",
       "  'phase1_readerperception': {'raw': [True, True, True], 'gold': True},\n",
       "  'cause': {'raw': [['none'],\n",
       "    ['cops in one village have been convicted of 70 crimes'],\n",
       "    ['70 crimes. here’s what they had to say about it.'],\n",
       "    ['condenados por 70 crímenes'],\n",
       "    ['cops in one village have been convicted of 70 crimes']],\n",
       "   'gold': [['cops in one village have been convicted of 70 crimes']]},\n",
       "  'cue': {'raw': [['none'],\n",
       "    ['surprise'],\n",
       "    ['convicted'],\n",
       "    ['crímenes'],\n",
       "    ['convicted']],\n",
       "   'gold': [['convicted']]},\n",
       "  'experiencer': {'raw': [['none'],\n",
       "    ['cops'],\n",
       "    ['cops'],\n",
       "    ['policías en una aldea'],\n",
       "    ['none']],\n",
       "   'gold': [['cops']]},\n",
       "  'target': {'raw': [['none'],\n",
       "    ['cops in one village have been convicted of 70 crimes'],\n",
       "    ['70 crimes. here’s what they had to say about it.'],\n",
       "    ['condenados por 70 crímenes'],\n",
       "    ['cops in one village have been convicted of 70 crimes']],\n",
       "   'gold': [['cops in one village have been convicted of 70 crimes']]}}}"
      ]
     },
     "execution_count": 24,
     "metadata": {},
     "output_type": "execute_result"
    }
   ],
   "source": [
    "data[0]"
   ]
  },
  {
   "cell_type": "code",
   "execution_count": null,
   "id": "c750d058",
   "metadata": {},
   "outputs": [],
   "source": []
  }
 ],
 "metadata": {
  "kernelspec": {
   "display_name": "Python 3 (ipykernel)",
   "language": "python",
   "name": "python3"
  },
  "language_info": {
   "codemirror_mode": {
    "name": "ipython",
    "version": 3
   },
   "file_extension": ".py",
   "mimetype": "text/x-python",
   "name": "python",
   "nbconvert_exporter": "python",
   "pygments_lexer": "ipython3",
   "version": "3.10.11"
  }
 },
 "nbformat": 4,
 "nbformat_minor": 5
}
