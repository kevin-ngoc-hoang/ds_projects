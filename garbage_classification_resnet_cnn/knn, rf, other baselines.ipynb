{
 "cells": [
  {
   "cell_type": "code",
   "execution_count": 1,
   "id": "f57edf44-f778-47ba-bedc-a9cff32855b3",
   "metadata": {},
   "outputs": [],
   "source": [
    "import os\n",
    "import random\n",
    "import re\n",
    "\n",
    "import numpy as np\n",
    "import pandas as pd\n",
    "import seaborn as sns\n",
    "import matplotlib.pyplot as plt\n",
    "\n",
    "from sklearn.metrics import confusion_matrix\n",
    "from sklearn.cluster import MiniBatchKMeans\n",
    "from sklearn.ensemble import RandomForestClassifier\n",
    "from sklearn.neighbors import KNeighborsClassifier\n",
    "\n",
    "import tensorflow as tf\n",
    "from tensorflow.keras import models, layers, Sequential\n",
    "from tensorflow.keras.layers import Conv2D, MaxPooling2D, Flatten, Dense, Dropout\n",
    "from tensorflow.keras.preprocessing.image import ImageDataGenerator, array_to_img, img_to_array, load_img"
   ]
  },
  {
   "cell_type": "code",
   "execution_count": 2,
   "id": "0f9a7658-4104-4ad0-b19c-6dabf133d587",
   "metadata": {},
   "outputs": [],
   "source": [
    "# Contains txt files\n",
    "path_data = r'C:\\Users\\hnkev\\Downloads\\W207 Final Project\\\\'\n",
    "\n",
    "label_dir = path_data + 'garbage_txt\\\\'\n",
    "# Contains img files\n",
    "image_dir = path_data + 'garbage_img\\\\'"
   ]
  },
  {
   "cell_type": "code",
   "execution_count": 3,
   "id": "7679d3c9-0748-4a49-b0cd-1f7b9929e326",
   "metadata": {},
   "outputs": [
    {
     "data": {
      "text/plain": [
       "'C:\\\\Users\\\\hnkev\\\\Downloads\\\\W207 Final Project\\\\\\\\garbage_txt\\\\'"
      ]
     },
     "execution_count": 3,
     "metadata": {},
     "output_type": "execute_result"
    }
   ],
   "source": [
    "label_dir"
   ]
  },
  {
   "cell_type": "code",
   "execution_count": 4,
   "id": "72558791-429d-4a50-8af6-5ca4c3b43fec",
   "metadata": {},
   "outputs": [],
   "source": [
    "# Read train, validation, test split from txt files\n",
    "train_file = label_dir + 'one-indexed-files-notrash_train.txt'\n",
    "val_file   = label_dir + 'one-indexed-files-notrash_val.txt'\n",
    "test_file  = label_dir + 'one-indexed-files-notrash_test.txt'\n",
    "\n",
    "df_train = pd.read_csv(train_file, sep=' ', header=None, names=['path', 'label'])\n",
    "df_valid = pd.read_csv(val_file,   sep=' ', header=None, names=['path', 'label'])\n",
    "df_test  = pd.read_csv(test_file,   sep=' ', header=None, names=['path', 'label'])\n",
    "\n",
    "# Converts label id to name\n",
    "def label_id_to_name(id):\n",
    "  label_map = {1: 'glass', 2: 'paper', 3: 'cardboard', 4: 'plastic', 5: 'metal', 6: 'trash'}\n",
    "  return label_map[id]\n",
    "\n",
    "df_train['label'] = df_train['label'].apply(label_id_to_name)\n",
    "df_valid['label'] = df_valid['label'].apply(label_id_to_name)\n",
    "df_test['label'] = df_test['label'].apply(label_id_to_name)\n",
    "\n",
    "# Change file name to file path i.e. cardboard114.jpg\t to cardboard/cardboard114.jpg\t\n",
    "df_train.path = df_train.path.str.extract(r'([a-z]+)')[0] + \"\\\\\" + df_train.path\n",
    "df_valid.path = df_valid.path.str.extract(r'([a-z]+)')[0] + \"\\\\\" + df_valid.path\n",
    "df_test.path = df_test.path.str.extract(r'([a-z]+)')[0] + \"\\\\\" + df_test.path"
   ]
  },
  {
   "cell_type": "code",
   "execution_count": 5,
   "id": "eb8c428b-0bf5-42cd-8a90-6bb55cdfb24a",
   "metadata": {},
   "outputs": [
    {
     "data": {
      "text/plain": [
       "paper        403\n",
       "glass        354\n",
       "plastic      347\n",
       "cardboard    287\n",
       "metal        286\n",
       "trash         91\n",
       "Name: label, dtype: int64"
      ]
     },
     "execution_count": 5,
     "metadata": {},
     "output_type": "execute_result"
    }
   ],
   "source": [
    "df_train.label.value_counts()"
   ]
  },
  {
   "cell_type": "code",
   "execution_count": 6,
   "id": "19c902aa-3d77-4f67-9b93-ebc8cf93446e",
   "metadata": {},
   "outputs": [],
   "source": [
    "train_img_list = []\n",
    "train_img_arr_list = []\n",
    "\n",
    "for suffix in list(df_train.path):\n",
    "    img = load_img(image_dir + suffix)\n",
    "    \n",
    "    train_img_list.append(img)\n",
    "    train_img_arr_list.append(img_to_array(img))"
   ]
  },
  {
   "cell_type": "code",
   "execution_count": 7,
   "id": "c959c7ec-3640-42c7-b0b3-67d17f38c496",
   "metadata": {
    "tags": []
   },
   "outputs": [],
   "source": [
    "train_img_flatten = []\n",
    "image_size = (224, 224)\n",
    "\n",
    "for img_arr in train_img_arr_list:\n",
    "    img = tf.image.resize(img_arr, size=image_size)\n",
    "    train_img_flatten.append(img.numpy().flatten())\n",
    "    \n",
    "X = np.array(train_img_flatten, dtype = 'int8')"
   ]
  },
  {
   "cell_type": "code",
   "execution_count": 8,
   "id": "5daf25bd",
   "metadata": {},
   "outputs": [],
   "source": [
    "test_img_list = []\n",
    "test_img_arr_list = []\n",
    "\n",
    "for suffix in list(df_test.path):\n",
    "    img = load_img(image_dir + suffix)\n",
    "    \n",
    "    test_img_list.append(img)\n",
    "    test_img_arr_list.append(img_to_array(img))\n",
    "\n",
    "test_img_flatten = []\n",
    "image_size = (224, 224)\n",
    "\n",
    "for img_arr in test_img_arr_list:\n",
    "    img = tf.image.resize(img_arr, size=image_size)\n",
    "    test_img_flatten.append(img.numpy().flatten())\n",
    "    \n",
    "X_test = np.array(test_img_flatten, dtype = 'int8')"
   ]
  },
  {
   "cell_type": "code",
   "execution_count": 9,
   "id": "36ef7c30",
   "metadata": {
    "scrolled": true
   },
   "outputs": [
    {
     "data": {
      "text/plain": [
       "0.32926829268292684"
      ]
     },
     "execution_count": 9,
     "metadata": {},
     "output_type": "execute_result"
    }
   ],
   "source": [
    "maj_baseline = sum(df_test.label == 'paper')/len(df_valid.label)\n",
    "maj_baseline"
   ]
  },
  {
   "cell_type": "code",
   "execution_count": 10,
   "id": "90b33ba2",
   "metadata": {},
   "outputs": [],
   "source": [
    "df_test_freqs = df_test.label.value_counts()/sum(df_test.label.value_counts())"
   ]
  },
  {
   "cell_type": "code",
   "execution_count": 11,
   "id": "ed77551d",
   "metadata": {},
   "outputs": [
    {
     "data": {
      "text/plain": [
       "0.1842636506048094"
      ]
     },
     "execution_count": 11,
     "metadata": {},
     "output_type": "execute_result"
    }
   ],
   "source": [
    "sum([i**2 for i in df_test_freqs])"
   ]
  },
  {
   "cell_type": "code",
   "execution_count": 12,
   "id": "d6d0cafc",
   "metadata": {},
   "outputs": [
    {
     "data": {
      "text/plain": [
       "array(['paper', 'glass', 'cardboard', 'glass', 'plastic', 'metal',\n",
       "       'paper', 'metal', 'plastic', 'glass', 'glass', 'metal', 'metal',\n",
       "       'metal', 'glass', 'metal', 'plastic', 'glass', 'paper', 'glass',\n",
       "       'glass', 'trash', 'plastic', 'glass', 'plastic', 'plastic',\n",
       "       'glass', 'glass', 'metal', 'plastic', 'glass', 'metal', 'metal',\n",
       "       'glass', 'glass', 'metal', 'plastic', 'glass', 'paper', 'glass',\n",
       "       'cardboard', 'plastic', 'glass', 'plastic', 'metal', 'plastic',\n",
       "       'metal', 'metal', 'plastic', 'paper', 'glass', 'glass', 'metal',\n",
       "       'glass', 'metal', 'trash', 'paper', 'glass', 'glass', 'glass',\n",
       "       'paper', 'metal', 'plastic', 'paper', 'glass', 'glass', 'glass',\n",
       "       'plastic', 'metal', 'plastic', 'glass', 'plastic', 'plastic',\n",
       "       'plastic', 'plastic', 'metal', 'glass', 'glass', 'glass', 'glass',\n",
       "       'metal', 'metal', 'metal', 'metal', 'plastic', 'trash', 'trash',\n",
       "       'glass', 'plastic', 'glass', 'plastic', 'glass', 'glass', 'metal',\n",
       "       'glass', 'plastic', 'metal', 'cardboard', 'glass', 'metal',\n",
       "       'metal', 'glass', 'glass', 'cardboard', 'plastic', 'glass',\n",
       "       'paper', 'glass', 'glass', 'glass', 'glass', 'metal', 'paper',\n",
       "       'plastic', 'glass', 'glass', 'glass', 'metal', 'metal', 'glass',\n",
       "       'glass', 'metal', 'glass', 'glass', 'glass', 'metal', 'trash',\n",
       "       'metal', 'glass', 'glass', 'paper', 'glass', 'paper', 'plastic',\n",
       "       'paper', 'glass', 'glass', 'plastic', 'glass', 'trash', 'plastic',\n",
       "       'metal', 'cardboard', 'metal', 'plastic', 'plastic', 'glass',\n",
       "       'plastic', 'plastic', 'cardboard', 'plastic', 'glass', 'glass',\n",
       "       'glass', 'plastic', 'metal', 'glass', 'glass', 'metal', 'glass',\n",
       "       'plastic', 'metal', 'glass', 'plastic', 'glass', 'plastic',\n",
       "       'paper', 'glass', 'plastic', 'paper', 'glass', 'glass', 'glass',\n",
       "       'metal', 'glass', 'glass', 'glass', 'plastic', 'paper', 'glass',\n",
       "       'plastic', 'glass', 'metal', 'glass', 'metal', 'glass', 'metal',\n",
       "       'metal', 'glass', 'metal', 'cardboard', 'glass', 'glass', 'glass',\n",
       "       'metal', 'plastic', 'metal', 'metal', 'glass', 'glass', 'glass',\n",
       "       'glass', 'glass', 'glass', 'glass', 'metal', 'glass', 'glass',\n",
       "       'glass', 'metal', 'plastic', 'glass', 'metal', 'cardboard',\n",
       "       'glass', 'paper', 'glass', 'metal', 'glass', 'cardboard', 'glass',\n",
       "       'glass', 'plastic', 'plastic', 'paper', 'trash', 'plastic',\n",
       "       'metal', 'plastic', 'glass', 'glass', 'glass', 'paper', 'paper',\n",
       "       'cardboard', 'metal', 'metal', 'cardboard', 'glass', 'paper',\n",
       "       'glass', 'glass', 'glass', 'plastic', 'cardboard', 'glass',\n",
       "       'metal', 'glass', 'paper', 'plastic', 'paper', 'paper', 'plastic',\n",
       "       'plastic', 'paper', 'plastic', 'glass', 'cardboard', 'glass',\n",
       "       'metal', 'glass', 'metal', 'glass', 'plastic', 'paper', 'glass',\n",
       "       'plastic', 'cardboard', 'plastic', 'metal', 'plastic', 'plastic',\n",
       "       'plastic', 'glass', 'glass', 'glass', 'metal', 'plastic', 'glass',\n",
       "       'plastic', 'paper', 'glass', 'glass', 'paper', 'cardboard',\n",
       "       'paper', 'paper', 'metal', 'plastic', 'plastic', 'glass',\n",
       "       'cardboard', 'metal', 'glass', 'plastic', 'glass', 'plastic',\n",
       "       'cardboard', 'plastic', 'glass', 'plastic', 'plastic', 'plastic',\n",
       "       'glass', 'metal', 'glass', 'glass', 'plastic', 'plastic', 'glass',\n",
       "       'metal', 'plastic', 'plastic', 'glass', 'plastic', 'metal',\n",
       "       'cardboard', 'glass', 'plastic', 'metal', 'metal', 'glass',\n",
       "       'glass', 'paper', 'metal', 'plastic', 'metal', 'metal', 'metal',\n",
       "       'plastic', 'paper', 'glass', 'plastic', 'glass', 'glass',\n",
       "       'plastic', 'glass', 'plastic', 'plastic', 'paper', 'paper',\n",
       "       'glass', 'plastic', 'plastic', 'glass', 'cardboard', 'glass',\n",
       "       'glass', 'metal', 'paper', 'cardboard', 'metal', 'glass',\n",
       "       'cardboard', 'glass', 'plastic', 'glass', 'paper', 'plastic',\n",
       "       'metal', 'metal', 'glass', 'cardboard', 'plastic', 'glass',\n",
       "       'paper', 'plastic', 'plastic', 'glass', 'cardboard', 'plastic',\n",
       "       'metal', 'glass', 'metal', 'metal', 'cardboard', 'glass', 'glass',\n",
       "       'glass', 'glass', 'plastic', 'plastic', 'glass', 'glass', 'metal',\n",
       "       'paper', 'metal', 'glass', 'glass', 'metal', 'metal', 'glass',\n",
       "       'glass', 'glass', 'plastic', 'metal', 'plastic', 'glass', 'metal',\n",
       "       'metal', 'plastic', 'plastic', 'paper', 'glass', 'glass', 'glass',\n",
       "       'paper', 'glass', 'glass', 'cardboard', 'metal', 'glass', 'metal',\n",
       "       'cardboard', 'plastic', 'glass', 'plastic', 'glass', 'glass',\n",
       "       'glass', 'metal', 'plastic', 'glass', 'glass', 'glass', 'glass',\n",
       "       'glass', 'paper', 'glass', 'glass', 'plastic'], dtype=object)"
      ]
     },
     "execution_count": 12,
     "metadata": {},
     "output_type": "execute_result"
    }
   ],
   "source": [
    "# Fit k-nearest neighbors\n",
    "\n",
    "knn=KNeighborsClassifier(n_neighbors=20)\n",
    "knn.fit(X, df_train.label)\n",
    "\n",
    "y_pred_knn=knn.predict(X_test)\n",
    "y_pred_knn"
   ]
  },
  {
   "cell_type": "code",
   "execution_count": 13,
   "id": "31802f02",
   "metadata": {},
   "outputs": [
    {
     "data": {
      "text/plain": [
       "0.3874709976798144"
      ]
     },
     "execution_count": 13,
     "metadata": {},
     "output_type": "execute_result"
    }
   ],
   "source": [
    "knn_20_test_acc = sum(df_test.label == y_pred_knn)/len(df_test.label == y_pred_knn)\n",
    "knn_20_test_acc"
   ]
  },
  {
   "cell_type": "code",
   "execution_count": 14,
   "id": "4060dd33",
   "metadata": {
    "scrolled": false
   },
   "outputs": [
    {
     "data": {
      "text/plain": [
       "array(['cardboard', 'paper', 'cardboard', 'glass', 'trash', 'cardboard',\n",
       "       'paper', 'paper', 'glass', 'metal', 'cardboard', 'glass', 'glass',\n",
       "       'paper', 'metal', 'plastic', 'cardboard', 'paper', 'paper',\n",
       "       'cardboard', 'glass', 'trash', 'paper', 'metal', 'plastic',\n",
       "       'glass', 'glass', 'glass', 'cardboard', 'plastic', 'plastic',\n",
       "       'paper', 'metal', 'metal', 'paper', 'cardboard', 'plastic',\n",
       "       'glass', 'paper', 'cardboard', 'cardboard', 'plastic', 'cardboard',\n",
       "       'plastic', 'glass', 'plastic', 'paper', 'paper', 'paper', 'paper',\n",
       "       'paper', 'metal', 'metal', 'metal', 'glass', 'trash', 'plastic',\n",
       "       'glass', 'cardboard', 'glass', 'paper', 'paper', 'plastic',\n",
       "       'plastic', 'paper', 'paper', 'paper', 'plastic', 'metal', 'paper',\n",
       "       'metal', 'glass', 'paper', 'plastic', 'plastic', 'glass', 'paper',\n",
       "       'cardboard', 'metal', 'glass', 'cardboard', 'metal', 'cardboard',\n",
       "       'paper', 'plastic', 'metal', 'trash', 'trash', 'plastic', 'glass',\n",
       "       'plastic', 'plastic', 'paper', 'paper', 'plastic', 'paper',\n",
       "       'cardboard', 'cardboard', 'paper', 'metal', 'paper', 'paper',\n",
       "       'paper', 'cardboard', 'plastic', 'metal', 'paper', 'glass',\n",
       "       'trash', 'paper', 'cardboard', 'glass', 'plastic', 'plastic',\n",
       "       'metal', 'plastic', 'cardboard', 'cardboard', 'glass', 'metal',\n",
       "       'paper', 'cardboard', 'paper', 'paper', 'plastic', 'cardboard',\n",
       "       'trash', 'cardboard', 'paper', 'trash', 'paper', 'metal',\n",
       "       'plastic', 'glass', 'paper', 'cardboard', 'paper', 'glass',\n",
       "       'plastic', 'trash', 'paper', 'paper', 'cardboard', 'paper',\n",
       "       'cardboard', 'plastic', 'paper', 'metal', 'plastic', 'cardboard',\n",
       "       'paper', 'paper', 'cardboard', 'glass', 'plastic', 'cardboard',\n",
       "       'trash', 'paper', 'glass', 'glass', 'plastic', 'glass', 'glass',\n",
       "       'plastic', 'metal', 'plastic', 'paper', 'cardboard', 'plastic',\n",
       "       'paper', 'cardboard', 'metal', 'cardboard', 'cardboard', 'glass',\n",
       "       'metal', 'glass', 'glass', 'paper', 'trash', 'paper', 'paper',\n",
       "       'glass', 'paper', 'cardboard', 'glass', 'cardboard', 'cardboard',\n",
       "       'paper', 'paper', 'cardboard', 'plastic', 'metal', 'plastic',\n",
       "       'metal', 'plastic', 'paper', 'glass', 'glass', 'cardboard',\n",
       "       'plastic', 'plastic', 'metal', 'paper', 'glass', 'metal', 'paper',\n",
       "       'glass', 'paper', 'metal', 'paper', 'glass', 'trash', 'cardboard',\n",
       "       'metal', 'glass', 'glass', 'paper', 'glass', 'cardboard', 'metal',\n",
       "       'paper', 'plastic', 'paper', 'paper', 'trash', 'plastic', 'glass',\n",
       "       'paper', 'plastic', 'paper', 'glass', 'paper', 'paper',\n",
       "       'cardboard', 'paper', 'paper', 'cardboard', 'paper', 'paper',\n",
       "       'cardboard', 'metal', 'cardboard', 'plastic', 'cardboard', 'glass',\n",
       "       'metal', 'paper', 'paper', 'glass', 'cardboard', 'paper', 'paper',\n",
       "       'plastic', 'plastic', 'plastic', 'paper', 'cardboard', 'paper',\n",
       "       'cardboard', 'cardboard', 'cardboard', 'metal', 'plastic', 'paper',\n",
       "       'cardboard', 'glass', 'cardboard', 'glass', 'cardboard', 'glass',\n",
       "       'plastic', 'paper', 'paper', 'glass', 'plastic', 'glass',\n",
       "       'plastic', 'trash', 'paper', 'plastic', 'metal', 'paper', 'paper',\n",
       "       'cardboard', 'paper', 'plastic', 'paper', 'plastic', 'paper',\n",
       "       'metal', 'cardboard', 'paper', 'cardboard', 'glass', 'plastic',\n",
       "       'plastic', 'cardboard', 'plastic', 'metal', 'plastic', 'plastic',\n",
       "       'plastic', 'glass', 'paper', 'metal', 'metal', 'glass', 'plastic',\n",
       "       'metal', 'paper', 'plastic', 'plastic', 'paper', 'glass', 'metal',\n",
       "       'cardboard', 'paper', 'plastic', 'glass', 'cardboard', 'glass',\n",
       "       'trash', 'paper', 'cardboard', 'cardboard', 'paper', 'paper',\n",
       "       'glass', 'glass', 'plastic', 'cardboard', 'paper', 'glass',\n",
       "       'paper', 'glass', 'cardboard', 'paper', 'paper', 'cardboard',\n",
       "       'paper', 'paper', 'plastic', 'plastic', 'cardboard', 'cardboard',\n",
       "       'metal', 'cardboard', 'glass', 'paper', 'cardboard', 'metal',\n",
       "       'glass', 'cardboard', 'glass', 'plastic', 'glass', 'paper',\n",
       "       'plastic', 'cardboard', 'cardboard', 'cardboard', 'cardboard',\n",
       "       'plastic', 'paper', 'paper', 'paper', 'plastic', 'glass',\n",
       "       'cardboard', 'glass', 'glass', 'glass', 'cardboard', 'metal',\n",
       "       'cardboard', 'cardboard', 'glass', 'metal', 'paper', 'plastic',\n",
       "       'paper', 'metal', 'paper', 'metal', 'paper', 'metal', 'metal',\n",
       "       'plastic', 'cardboard', 'trash', 'paper', 'glass', 'metal',\n",
       "       'paper', 'paper', 'glass', 'paper', 'cardboard', 'cardboard',\n",
       "       'paper', 'glass', 'paper', 'metal', 'glass', 'plastic', 'paper',\n",
       "       'glass', 'paper', 'cardboard', 'cardboard', 'glass', 'trash',\n",
       "       'cardboard', 'plastic', 'glass', 'plastic', 'cardboard', 'glass',\n",
       "       'paper', 'paper', 'paper', 'metal', 'metal', 'metal', 'glass',\n",
       "       'trash', 'paper', 'paper', 'paper', 'glass'], dtype=object)"
      ]
     },
     "execution_count": 14,
     "metadata": {},
     "output_type": "execute_result"
    }
   ],
   "source": [
    "#Fit random forest\n",
    "rf=RandomForestClassifier(random_state = 0)\n",
    "rf.fit(X, df_train.label)\n",
    "\n",
    "y_pred_rf=rf.predict(X_test)\n",
    "y_pred_rf"
   ]
  },
  {
   "cell_type": "code",
   "execution_count": 15,
   "id": "59bddbfc",
   "metadata": {},
   "outputs": [
    {
     "data": {
      "text/plain": [
       "0.6635730858468677"
      ]
     },
     "execution_count": 15,
     "metadata": {},
     "output_type": "execute_result"
    }
   ],
   "source": [
    "rf_test_acc = sum(df_test.label == y_pred_rf)/len(df_test.label == y_pred_rf)\n",
    "rf_test_acc"
   ]
  }
 ],
 "metadata": {
  "kernelspec": {
   "display_name": "Python 3 (ipykernel)",
   "language": "python",
   "name": "python3"
  },
  "language_info": {
   "codemirror_mode": {
    "name": "ipython",
    "version": 3
   },
   "file_extension": ".py",
   "mimetype": "text/x-python",
   "name": "python",
   "nbconvert_exporter": "python",
   "pygments_lexer": "ipython3",
   "version": "3.9.12"
  }
 },
 "nbformat": 4,
 "nbformat_minor": 5
}
